{
 "cells": [
  {
   "cell_type": "markdown",
   "metadata": {},
   "source": [
    "### Задание 1\n",
    "Вероятность того, что стрелок попадет в мишень, выстрелив один раз, равна 0.8. Стрелок выстрелил 100 раз. Найдите вероятность того, что стрелок попадет в цель ровно 85 раз."
   ]
  },
  {
   "cell_type": "code",
   "execution_count": 20,
   "metadata": {},
   "outputs": [],
   "source": [
    "from math import factorial\n",
    "def combinations(n,k):\n",
    "    return int(factorial(n) / (factorial(k) * factorial(n - k)))"
   ]
  },
  {
   "cell_type": "code",
   "execution_count": 21,
   "metadata": {},
   "outputs": [
    {
     "name": "stdout",
     "output_type": "stream",
     "text": [
      "вероятность того, что стрелок попадет в цель ровно 85 раз = 87.15%\n"
     ]
    }
   ],
   "source": [
    "#бернули\n",
    "p_a = 0.8\n",
    "n = 100\n",
    "k = 85\n",
    "z = []\n",
    "for i in range(k):\n",
    "    p_n = combinations(n,i) * (p_a ** i) * ((1 - p_a) ** (n - i))\n",
    "    z.append(p_n)\n",
    "    \n",
    "p = sum(z)\n",
    "print('вероятность того, что стрелок попадет в цель ровно 85 раз = {:.4}%'.format(p*100))"
   ]
  },
  {
   "cell_type": "markdown",
   "metadata": {},
   "source": [
    "### Задание 2\n",
    "Вероятность того, что лампочка перегорит в течение первого дня эксплуатации, равна 0.0004. В жилом комплексе после ремонта в один день включили 5000 новых лампочек. Какова вероятность, что ни одна из них не перегорит в первый день? Какова вероятность, что перегорят ровно две?"
   ]
  },
  {
   "cell_type": "code",
   "execution_count": 22,
   "metadata": {},
   "outputs": [
    {
     "name": "stdout",
     "output_type": "stream",
     "text": [
      "вероятность, что ни одна из них не перегорит в первый день = 13.53%\n",
      "вероятность, что перегорят ровно две = 27.07%\n"
     ]
    }
   ],
   "source": [
    "#пуассон\n",
    "from math import exp\n",
    "p = 0.0004\n",
    "m = 0\n",
    "n = 5000\n",
    "lamb = p * n\n",
    "p_0 = ((lamb**m) / factorial(m)) * exp(-lamb)\n",
    "print('вероятность, что ни одна из них не перегорит в первый день = {:.4}%'.format(p_0*100))\n",
    "m = 2\n",
    "p_0 = ((lamb**m) / factorial(m)) * exp(-lamb)\n",
    "print('вероятность, что перегорят ровно две = {:.4}%'.format(p_0*100))"
   ]
  },
  {
   "cell_type": "markdown",
   "metadata": {},
   "source": [
    "### Задание 3\n",
    "Монету подбросили 144 раза. Какова вероятность, что орел выпадет ровно 70 раз?"
   ]
  },
  {
   "cell_type": "code",
   "execution_count": 23,
   "metadata": {},
   "outputs": [
    {
     "name": "stdout",
     "output_type": "stream",
     "text": [
      "вероятность, что орел выпадет ровно 70 раз = 33.85%\n"
     ]
    }
   ],
   "source": [
    "#бернули\n",
    "p_a = 0.5\n",
    "n = 144\n",
    "k = 70\n",
    "z = []\n",
    "for i in range(k):\n",
    "    p_n = combinations(n,i) * (p_a ** i) * ((1 - p_a) ** (n - i))\n",
    "    z.append(p_n)\n",
    "    \n",
    "p = sum(z)\n",
    "print('вероятность, что орел выпадет ровно 70 раз = {:.4}%'.format(p*100))"
   ]
  },
  {
   "cell_type": "markdown",
   "metadata": {},
   "source": [
    "### Задание 4\n",
    "В первом ящике находится 10 мячей, из которых 7 - белые. Во втором ящике - 11 мячей, из которых 9 белых. Из каждого ящика вытаскивают случайным образом по два мяча. Какова вероятность того, что все мячи белые? Какова вероятность того, что ровно два мяча белые? Какова вероятность того, что хотя бы один мяч белый?"
   ]
  },
  {
   "cell_type": "code",
   "execution_count": 24,
   "metadata": {},
   "outputs": [
    {
     "name": "stdout",
     "output_type": "stream",
     "text": [
      "вероятность того, что все мячи белые = 18.88%\n",
      "вероятность того, что 2 мяча белые = 9.438%\n",
      "вероятность того, что 1 мяч белые = 4.719%\n"
     ]
    }
   ],
   "source": [
    "p_c_b1 = 7/10\n",
    "p_c_b2 = 9/11\n",
    "\n",
    "p_a_b1 = 2/10\n",
    "p_a_b2 = 2/11\n",
    "\n",
    "p_a = p_a_b1 * p_a_b1 + p_c_b2 * p_a_b2\n",
    "print('вероятность того, что все мячи белые = {:.4}%'.format(p_a*100))\n",
    "\n",
    "p_white_2 =  2/4\n",
    "p_a = p_a_b1 * p_a_b1 * p_white_2 + p_c_b2 * p_a_b2 * p_white_2\n",
    "print('вероятность того, что 2 мяча белые = {:.4}%'.format(p_a*100))\n",
    "\n",
    "p_white_1 =  1/4\n",
    "p_a = p_a_b1 * p_a_b1 * p_white_1 + p_c_b2 * p_a_b2 * p_white_1\n",
    "print('вероятность того, что 1 мяч белые = {:.4}%'.format(p_a*100))"
   ]
  }
 ],
 "metadata": {
  "kernelspec": {
   "display_name": "Python 3",
   "language": "python",
   "name": "python3"
  },
  "language_info": {
   "codemirror_mode": {
    "name": "ipython",
    "version": 3
   },
   "file_extension": ".py",
   "mimetype": "text/x-python",
   "name": "python",
   "nbconvert_exporter": "python",
   "pygments_lexer": "ipython3",
   "version": "3.7.4"
  }
 },
 "nbformat": 4,
 "nbformat_minor": 2
}
