{
 "cells": [
  {
   "cell_type": "markdown",
   "metadata": {},
   "source": [
    "### Task 1\n",
    "Даны значения величины заработной платы заемщиков банка (zp) и значения их поведенческого кредитного скоринга (ks):\n",
    "\n",
    "zp = [35, 45, 190, 200, 40, 70, 54, 150, 120, 110],\n",
    "\n",
    "ks = [401, 574, 874, 919, 459, 739, 653, 902, 746, 832].\n",
    "\n",
    "Найдите ковариацию этих двух величин с помощью элементарных действий, а затем с помощью функции cov из numpy\n",
    "\n",
    "Полученные значения должны быть равны.\n",
    "\n",
    "Найдите коэффициент корреляции Пирсона с помощью ковариации и среднеквадратичных отклонений двух признаков,\n",
    "а затем с использованием функций из библиотек numpy и pandas."
   ]
  },
  {
   "cell_type": "code",
   "execution_count": 38,
   "metadata": {},
   "outputs": [
    {
     "name": "stdout",
     "output_type": "stream",
     "text": [
      "9157.84 9157.84\n",
      "0.8874900921 0.8874900921\n"
     ]
    }
   ],
   "source": [
    "import numpy as np\n",
    "zp = [35, 45, 190, 200, 40, 70, 54, 150, 120, 110]\n",
    "ks = [401, 574, 874, 919, 459, 739, 653, 902, 746, 832]\n",
    "zp = np.array(zp)\n",
    "ks = np.array(ks)\n",
    "\n",
    "cov_manual = np.mean(zp*ks) - np.mean(zp)*np.mean(ks)\n",
    "print(np.cov(zp, ks, ddof = 0)[0][1] , round(cov_manual, 2))\n",
    "\n",
    "corr_pirson = cov_manual / (np.std(zp) * np.std(ks))\n",
    "print(round(corr_pirson,10) , round(np.corrcoef(zp, ks)[0][1], 10))"
   ]
  },
  {
   "cell_type": "markdown",
   "metadata": {},
   "source": [
    "### Task 2\n",
    "Измерены значения IQ выборки студентов,\n",
    "обучающихся в местных технических вузах:\n",
    "131, 125, 115, 122, 131, 115, 107, 99, 125, 111.\n",
    "Известно, что в генеральной совокупности IQ распределен нормально.\n",
    "Найдите доверительный интервал для математического ожидания с надежностью 0.95."
   ]
  },
  {
   "cell_type": "code",
   "execution_count": 42,
   "metadata": {
    "scrolled": true
   },
   "outputs": [
    {
     "name": "stdout",
     "output_type": "stream",
     "text": [
      "110.9432125583706   125.25678744162938\n"
     ]
    }
   ],
   "source": [
    "from scipy.stats import t\n",
    "a = np.array([131, 125, 115, 122, 131, 115, 107, 99, 125, 111])\n",
    "stdx = np.std(a,ddof=0)\n",
    "n = len(a)\n",
    "trusted_int = 0.95\n",
    "df = n-1\n",
    "t = t.interval(trusted_int, df)\n",
    "M = np.mean(a)\n",
    "interval_left = M - t[1] * stdx/np.sqrt(n)\n",
    "interval_rigth = M + t[1] * stdx/np.sqrt(n)\n",
    "print(interval_left , \" \",interval_rigth)"
   ]
  },
  {
   "cell_type": "markdown",
   "metadata": {},
   "source": [
    "### Task 3\n",
    "Известно, что рост футболистов в сборной распределен нормально\n",
    "с дисперсией генеральной совокупности, равной 25 кв.см. Объем выборки равен 27,\n",
    "среднее выборочное составляет 174.2. Найдите доверительный интервал для математического\n",
    "ожидания с надежностью 0.95."
   ]
  },
  {
   "cell_type": "code",
   "execution_count": 43,
   "metadata": {},
   "outputs": [
    {
     "name": "stdout",
     "output_type": "stream",
     "text": [
      "173.70927871556776   174.69072128443221\n"
     ]
    }
   ],
   "source": [
    "import numpy as np\n",
    "from scipy.stats import norm\n",
    "\n",
    "stdx = 5\n",
    "M = 174.2\n",
    "n = 27\n",
    "trusted_int = 0.95\n",
    "\n",
    "interval_left = M - norm.cdf(((1-trusted_int)/2)) * stdx/np.sqrt(n)\n",
    "interval_rigth = M + norm.cdf(((1-trusted_int)/2)) * stdx/np.sqrt(n)\n",
    "print(interval_left , \" \",interval_rigth )"
   ]
  },
  {
   "cell_type": "code",
   "execution_count": null,
   "metadata": {},
   "outputs": [],
   "source": []
  }
 ],
 "metadata": {
  "kernelspec": {
   "display_name": "Python 3",
   "language": "python",
   "name": "python3"
  },
  "language_info": {
   "codemirror_mode": {
    "name": "ipython",
    "version": 3
   },
   "file_extension": ".py",
   "mimetype": "text/x-python",
   "name": "python",
   "nbconvert_exporter": "python",
   "pygments_lexer": "ipython3",
   "version": "3.7.4"
  }
 },
 "nbformat": 4,
 "nbformat_minor": 2
}
