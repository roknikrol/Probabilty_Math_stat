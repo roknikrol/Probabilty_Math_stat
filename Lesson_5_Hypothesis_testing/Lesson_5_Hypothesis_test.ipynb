{
 "cells": [
  {
   "cell_type": "markdown",
   "metadata": {},
   "source": [
    "### Task 1\n",
    "Известно, что генеральная совокупность распределена нормально со средним квадратическим отклонением, равным 16. Найти доверительный интервал для оценки математического ожидания a с надежностью 0.95, если выборочная средняя M = 80, а объем выборки n = 256."
   ]
  },
  {
   "cell_type": "code",
   "execution_count": 2,
   "metadata": {},
   "outputs": [
    {
     "name": "stdout",
     "output_type": "stream",
     "text": [
      "79.49002748180476   80.50997251819524\n"
     ]
    }
   ],
   "source": [
    "import numpy as np\n",
    "from scipy.stats import norm\n",
    "\n",
    "stdx = 16\n",
    "M = 80\n",
    "n = 256\n",
    "trusted_int = 0.95\n",
    "\n",
    "interval_left = M - norm.cdf(((1-trusted_int)/2)) * stdx/np.sqrt(n)\n",
    "interval_rigth = M + norm.cdf(((1-trusted_int)/2)) * stdx/np.sqrt(n)\n",
    "print(interval_left , \" \",interval_rigth )"
   ]
  },
  {
   "cell_type": "markdown",
   "metadata": {},
   "source": [
    "### Task 2\n",
    "В результате 10 независимых измерений некоторой величины X, выполненных с одинаковой точностью,\n",
    "получены опытные данные:\n",
    "6.9, 6.1, 6.2, 6.8, 7.5, 6.3, 6.4, 6.9, 6.7, 6.1\n",
    "Предполагая, что результаты измерений подчинены нормальному закону распределения вероятностей,\n",
    "оценить истинное значение величины X при помощи доверительного интервала, покрывающего это\n",
    "значение с доверительной вероятностью 0,95."
   ]
  },
  {
   "cell_type": "code",
   "execution_count": 7,
   "metadata": {},
   "outputs": [
    {
     "name": "stdout",
     "output_type": "stream",
     "text": [
      "6.267515851415713   6.912484148584288\n"
     ]
    }
   ],
   "source": [
    "from scipy.stats import t\n",
    "a = np.array([6.9, 6.1, 6.2, 6.8, 7.5, 6.3, 6.4, 6.9, 6.7, 6.1])\n",
    "stdx = np.std(a,ddof=1)\n",
    "n = 10\n",
    "trusted_int = 0.95\n",
    "df = n-1\n",
    "t = t.interval(trusted_int, df)\n",
    "M = np.mean(a)\n",
    "interval_left = M - t[1] * stdx/np.sqrt(n)\n",
    "interval_rigth = M + t[1] * stdx/np.sqrt(n)\n",
    "print(interval_left , \" \",interval_rigth)"
   ]
  },
  {
   "cell_type": "markdown",
   "metadata": {},
   "source": [
    "### Task 3\n",
    "Утверждается, что шарики для подшипников, изготовленные автоматическим станком, имеют средний диаметр 17 мм.\n",
    "Используя односторонний критерий с α=0,05, проверить эту гипотезу, если в выборке из n=100 шариков средний диаметр\n",
    "оказался равным 17.5 мм, а дисперсия известна и равна 4 кв.мм."
   ]
  },
  {
   "cell_type": "code",
   "execution_count": 13,
   "metadata": {},
   "outputs": [
    {
     "name": "stdout",
     "output_type": "stream",
     "text": [
      "H1 = True 2.5\n"
     ]
    }
   ],
   "source": [
    "from scipy.stats import norm\n",
    "\n",
    "nighty_five_percent = 1.645\n",
    "mu_0 = 17\n",
    "mu_1 = 17.5\n",
    "alpha = 0.05\n",
    "stdx = 2\n",
    "n = 100\n",
    "z = (mu_1 - mu_0) / (stdx/np.sqrt(n))\n",
    "test = norm.cdf(z) < nighty_five_percent\n",
    "print(f\"H1 = {test}\", z)"
   ]
  },
  {
   "cell_type": "markdown",
   "metadata": {},
   "source": [
    "### Task 4\n",
    "Продавец утверждает, что средний вес пачки печенья составляет 200 г.\n",
    "Из партии извлечена выборка из 10 пачек. Вес каждой пачки составляет:\n",
    "202, 203, 199, 197, 195, 201, 200, 204, 194, 190.\n",
    "Известно, что их веса распределены нормально.\n",
    "Верно ли утверждение продавца, если учитывать, что доверительная вероятность равна 99%?"
   ]
  },
  {
   "cell_type": "code",
   "execution_count": 8,
   "metadata": {},
   "outputs": [
    {
     "name": "stdout",
     "output_type": "stream",
     "text": [
      "193.92322840036354   203.07677159963646\n",
      "утверждение верно - 200г попадает в доверительный интервал\n"
     ]
    }
   ],
   "source": [
    "from scipy.stats import t\n",
    "a = np.array([202, 203, 199, 197, 195, 201, 200, 204, 194, 190])\n",
    "stdx = np.std(a,ddof=1)\n",
    "n = 10\n",
    "trusted_int = 0.99\n",
    "df = n-1\n",
    "t = t.interval(trusted_int, df)\n",
    "M = np.mean(a)\n",
    "interval_left = M - t[1] * stdx/np.sqrt(n)\n",
    "interval_rigth = M + t[1] * stdx/np.sqrt(n)\n",
    "print(interval_left , \" \",interval_rigth )\n",
    "print(\"утверждение верно - 200г попадает в доверительный интервал\")"
   ]
  },
  {
   "cell_type": "code",
   "execution_count": null,
   "metadata": {},
   "outputs": [],
   "source": []
  }
 ],
 "metadata": {
  "kernelspec": {
   "display_name": "Python 3",
   "language": "python",
   "name": "python3"
  },
  "language_info": {
   "codemirror_mode": {
    "name": "ipython",
    "version": 3
   },
   "file_extension": ".py",
   "mimetype": "text/x-python",
   "name": "python",
   "nbconvert_exporter": "python",
   "pygments_lexer": "ipython3",
   "version": "3.7.4"
  }
 },
 "nbformat": 4,
 "nbformat_minor": 2
}
