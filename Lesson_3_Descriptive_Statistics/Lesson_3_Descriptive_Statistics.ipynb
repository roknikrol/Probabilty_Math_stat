{
 "cells": [
  {
   "cell_type": "markdown",
   "metadata": {},
   "source": [
    "### Задание 1\n",
    "Даны значения зарплат из выборки выпускников: 100, 80, 75, 77, 89, 33, 45, 25, 65, 17, 30, 24, 57, 55, 70, 75, 65, 84, 90, 150. Посчитать (желательно без использования статистических методов наподобие std, var, mean) среднее арифметическое, среднее квадратичное отклонение, смещенную и несмещенную оценки дисперсий для данной выборки."
   ]
  },
  {
   "cell_type": "code",
   "execution_count": 50,
   "metadata": {},
   "outputs": [
    {
     "name": "stdout",
     "output_type": "stream",
     "text": [
      "среднее арифметическое          = 65.3\n",
      "среднее квадратичное отклонение = 30.823854398825596\n",
      "смещенная оценка дисперсии      = 950.11\n",
      "НЕсмещенная оценка дисперсии    = 1000.1157894736842\n"
     ]
    }
   ],
   "source": [
    "import numpy as np\n",
    "import pandas as pd\n",
    "\n",
    "n = [100, 80, 75, 77, 89, 33, 45, 25, 65, 17, 30, 24, 57, 55, 70, 75, 65, 84, 90, 150]\n",
    "n = np.array(n)\n",
    "\n",
    "length = len(n)\n",
    "sum_n = sum(n)\n",
    "\n",
    "\n",
    "mean = sum_n/length\n",
    "\n",
    "std = np.sqrt(((n - mean)**2).sum()/length)\n",
    "\n",
    "var_offset = ((n - mean)**2).sum()/length\n",
    "var_non_offset = ((n - mean)**2).sum()/(length-1)\n",
    "\n",
    "\n",
    "print(f\"среднее арифметическое          = {mean}\")\n",
    "print(f\"среднее квадратичное отклонение = {std}\")\n",
    "print(f\"смещенная оценка дисперсии      = {var_offset}\")\n",
    "print(f\"НЕсмещенная оценка дисперсии    = {var_non_offset}\")"
   ]
  },
  {
   "cell_type": "markdown",
   "metadata": {},
   "source": [
    "### Задание 2 \n",
    "В первом ящике находится 8 мячей, из которых 5 - белые. Во втором ящике - 12 мячей, из которых 5 белых. Из первого ящика вытаскивают случайным образом два мяча, из второго - 4. Какова вероятность того, что 3 мяча белые?"
   ]
  },
  {
   "cell_type": "code",
   "execution_count": 51,
   "metadata": {},
   "outputs": [
    {
     "name": "stdout",
     "output_type": "stream",
     "text": [
      "вероятность того, что 3 мяча белые = 36.87%\n"
     ]
    }
   ],
   "source": [
    "box_1_total = 8\n",
    "box_1_white = 5\n",
    "box_1_black = 3\n",
    "\n",
    "box_2_total = 12\n",
    "box_2_white = 5\n",
    "box_2_black = 7\n",
    "\n",
    "taken_from_b1 = 2\n",
    "taken_from_b2 = 4\n",
    "\n",
    "from math import factorial\n",
    "def combinations(n,k):\n",
    "    return int(factorial(n) / (factorial(k) * factorial(n - k)))\n",
    "\n",
    "p1 = combinations(5,2)/combinations(8,2) * (combinations(5,1) * combinations(7,3)/combinations(12,4))\n",
    "p2 = (combinations(5,1) * combinations(3,1)/combinations(8,2)) * (combinations(5,2) * combinations(7,2)/combinations(12,4))\n",
    "\n",
    "p3 = combinations(3,2)/combinations(8,2) * (combinations(5,3) * combinations(7,1)/combinations(12,4))\n",
    "comb_p_3_white = p1 + p2 + p3\n",
    "print('вероятность того, что 3 мяча белые = {:.4}%'.format(comb_p_3_white*100))"
   ]
  },
  {
   "cell_type": "markdown",
   "metadata": {},
   "source": [
    "### Задание 3\n",
    "На соревновании по биатлону один из трех спортсменов стреляет и попадает в мишень. Вероятность попадания для первого спортсмена равна 0.9, для второго — 0.8, для третьего — 0.6. Найти вероятность того, что выстрел произведен: a). первым спортсменом б). вторым спортсменом в). третьим спортсменом."
   ]
  },
  {
   "cell_type": "code",
   "execution_count": 36,
   "metadata": {},
   "outputs": [
    {
     "name": "stdout",
     "output_type": "stream",
     "text": [
      "a). первым спортсменом = 39.13%\n",
      "б). вторым спортсменом = 34.78%\n",
      "в). третьим спортсменом. 26.09%\n"
     ]
    }
   ],
   "source": [
    "p_a_b1 = 0.9\n",
    "p_a_b2 = 0.8\n",
    "p_a_b3 = 0.6\n",
    "\n",
    "b1 = 1/3\n",
    "b2 = 1/3\n",
    "b3 = 1/3\n",
    "\n",
    "p_a = p_a_b1 * b1 + p_a_b2 * b2 + p_a_b3 * b3\n",
    "\n",
    "# number 1 shoots\n",
    "p_b1_a = (b1  * p_a_b1) / p_a\n",
    "# number 2 shoots\n",
    "p_b2_a = (b2  * p_a_b2) / p_a\n",
    "# number 3 shoots\n",
    "p_b3_a = (b3  * p_a_b3) / p_a\n",
    "print('a). первым спортсменом = {:.4}%'.format(p_b1_a*100))\n",
    "print('б). вторым спортсменом = {:.4}%'.format(p_b2_a*100))\n",
    "print('в). третьим спортсменом. {:.4}%'.format(p_b3_a*100))"
   ]
  },
  {
   "cell_type": "markdown",
   "metadata": {},
   "source": [
    "### Задание 4\n",
    "В университет на факультеты A и B поступило равное количество студентов, а на факультет C студентов поступило столько же, сколько на A и B вместе. Вероятность того, что студент факультета A сдаст первую сессию, равна 0.8. Для студента факультета B эта вероятность равна 0.7, а для студента факультета C - 0.9. Студент сдал первую сессию. Какова вероятность, что он учится: a). на факультете A б). на факультете B в). на факультете C?"
   ]
  },
  {
   "cell_type": "code",
   "execution_count": 38,
   "metadata": {},
   "outputs": [
    {
     "name": "stdout",
     "output_type": "stream",
     "text": [
      "Факультет А = 24.24%\n",
      "Факультет B = 21.21%\n",
      "Факультет C = 54.55%\n"
     ]
    }
   ],
   "source": [
    "p_a_b1 = 0.8\n",
    "p_a_b2 = 0.7\n",
    "p_a_b3 = 0.9\n",
    "\n",
    "b1 = 1/4\n",
    "b2 = 1/4\n",
    "b3 = 1/2\n",
    "\n",
    "p_a = p_a_b1 * b1 + p_a_b2 * b2 + p_a_b3 * b3\n",
    "\n",
    "# Факультет А\n",
    "p_b1_a = (b1  * p_a_b1) / p_a\n",
    "# Факультет В\n",
    "p_b2_a = (b2  * p_a_b2) / p_a\n",
    "# Факультет С\n",
    "p_b3_a = (b3  * p_a_b3) / p_a\n",
    "print('Факультет А = {:.4}%'.format(p_b1_a*100))\n",
    "print('Факультет B = {:.4}%'.format(p_b2_a*100))\n",
    "print('Факультет C = {:.4}%'.format(p_b3_a*100))"
   ]
  },
  {
   "cell_type": "markdown",
   "metadata": {},
   "source": [
    "### Задание 5\n",
    "Устройство состоит из трех деталей. Для первой детали вероятность выйти из строя в первый месяц равна 0.1, для второй - 0.2, для третьей - 0.25. Какова вероятность того, что в первый месяц выйдут из строя: а). все детали б). только две детали в). хотя бы одна деталь г). от одной до двух деталей?"
   ]
  },
  {
   "cell_type": "code",
   "execution_count": 46,
   "metadata": {},
   "outputs": [
    {
     "name": "stdout",
     "output_type": "stream",
     "text": [
      "все детали = 0.5%\n",
      "только две детали = 8.0%\n",
      "хотя бы одна деталь = 46.0%\n",
      "от одной до двух деталей = 54.0%\n"
     ]
    }
   ],
   "source": [
    "p_b1 = 0.1\n",
    "p_b2 = 0.2\n",
    "p_b3 = 0.25\n",
    "\n",
    "# все детали\n",
    "p_b1_a = p_b1 * p_b2 * p_b3\n",
    "# только две детали\n",
    "p_b2_a = p_b1 * (1 - p_b2) * p_b3 + p_b1 * p_b2 * (1 - p_b3) + (1 - p_b1) * p_b2 * p_b3 \n",
    "# хотя бы одна деталь\n",
    "p_b3_a = p_b1 * (1 - p_b2) * (1 - p_b3) + (1 - p_b1) * p_b2 * (1 - p_b3) + (1 - p_b1) * (1 - p_b2) * p_b3 + p_b2_a + p_b1_a\n",
    "# от одной до двух деталей\n",
    "p_b4_a = p_b2_a + p_b3_a\n",
    "\n",
    "print('все детали = {:.4}%'.format(p_b1_a*100))\n",
    "print('только две детали = {:.4}%'.format(p_b2_a*100))\n",
    "print('хотя бы одна деталь = {:.4}%'.format(p_b3_a*100))\n",
    "print('от одной до двух деталей = {:.4}%'.format(p_b4_a*100))"
   ]
  },
  {
   "cell_type": "code",
   "execution_count": null,
   "metadata": {},
   "outputs": [],
   "source": []
  }
 ],
 "metadata": {
  "kernelspec": {
   "display_name": "Python 3",
   "language": "python",
   "name": "python3"
  },
  "language_info": {
   "codemirror_mode": {
    "name": "ipython",
    "version": 3
   },
   "file_extension": ".py",
   "mimetype": "text/x-python",
   "name": "python",
   "nbconvert_exporter": "python",
   "pygments_lexer": "ipython3",
   "version": "3.7.4"
  }
 },
 "nbformat": 4,
 "nbformat_minor": 2
}
