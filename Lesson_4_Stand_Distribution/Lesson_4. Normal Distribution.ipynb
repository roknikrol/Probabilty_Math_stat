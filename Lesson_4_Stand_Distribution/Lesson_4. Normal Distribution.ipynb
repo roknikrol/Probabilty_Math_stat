{
 "cells": [
  {
   "cell_type": "markdown",
   "metadata": {},
   "source": [
    "### Задача 1\n",
    "Случайная непрерывная величина A имеет равномерное распределение на промежутке (200, 800].\n",
    "Найдите ее среднее значение и дисперсию."
   ]
  },
  {
   "cell_type": "code",
   "execution_count": 3,
   "metadata": {},
   "outputs": [
    {
     "name": "stdout",
     "output_type": "stream",
     "text": [
      "mean = 500.0\n",
      "var = 30000.0\n"
     ]
    }
   ],
   "source": [
    "m_x = (200 + 800)/2 # так как равномерно распределние используем M(x) = a+b/2\n",
    "d_x = ((800-200)**2)/12\n",
    "print(f'mean = {m_x}')\n",
    "print(f'var = {d_x}')"
   ]
  },
  {
   "cell_type": "markdown",
   "metadata": {},
   "source": [
    "### Задание 2\n",
    "О случайной непрерывной равномерно распределенной величине B известно, что ее дисперсия равна 0.2.\n",
    "Можно ли найти правую границу величины B и ее среднее значение зная, что левая граница равна 0.5?\n",
    "Если да, найдите ее."
   ]
  },
  {
   "cell_type": "code",
   "execution_count": 7,
   "metadata": {},
   "outputs": [
    {
     "name": "stdout",
     "output_type": "stream",
     "text": [
      "right border = 2.049193338482967\n",
      "mean = 1.2745966692414834\n"
     ]
    }
   ],
   "source": [
    "import numpy as np\n",
    "d_x = 0.2\n",
    "a = 0.5\n",
    "b = np.sqrt(d_x*12) + a\n",
    "m_x = (a + b)/2\n",
    "print(f'right border = {b}')\n",
    "print(f'mean = {m_x}')"
   ]
  },
  {
   "cell_type": "markdown",
   "metadata": {},
   "source": [
    "### Задание 3\n",
    "Непрерывная случайная величина X распределена нормально и задана плотностью распределения\n",
    "f(x) = (1 / (4 * sqrt(2*pi))) * (exp(-((x+2)**2) / 32))\n",
    "Найдите:\n",
    "\n",
    "а). M(X)\n",
    "\n",
    "б). D(X)\n",
    "\n",
    "в). std(X) (среднее квадратичное отклонение)\n"
   ]
  },
  {
   "cell_type": "code",
   "execution_count": 9,
   "metadata": {},
   "outputs": [],
   "source": [
    "m_x = 2\n",
    "d_x = 16\n",
    "std_x = 4"
   ]
  },
  {
   "cell_type": "markdown",
   "metadata": {},
   "source": [
    "### Задание 4\n",
    "Рост взрослого населения города X имеет нормальное распределение.\n",
    "Причем, средний рост равен 174 см, а среднее квадратичное отклонение равно 8 см.\n",
    "Какова вероятность того, что случайным образом выбранный взрослый человек имеет рост:\n",
    "\n",
    "а). больше 182 см\n",
    "\n",
    "б). больше 190 см\n",
    "\n",
    "в). от 166 см до 190 см\n",
    "\n",
    "г). от 166 см до 182 см\n",
    "\n",
    "д). от 158 см до 190 см\n",
    "\n",
    "е). не выше 150 см или не ниже 190 см\n",
    "\n",
    "ё). не выше 150 см или не ниже 198 см\n",
    "\n",
    "ж). ниже 166 см."
   ]
  },
  {
   "cell_type": "code",
   "execution_count": 44,
   "metadata": {},
   "outputs": [
    {
     "name": "stdout",
     "output_type": "stream",
     "text": [
      "a) вероятность = 15.865525393145708%\n",
      "б) вероятность = 2.275013194817921% согласно таблице\n",
      "б) вероятность = 84.1344746068543% согласно таблице\n",
      "б) вероятность = 84.1344746068543% согласно таблице\n",
      "б) вероятность = 97.72498680518208% согласно таблице\n"
     ]
    }
   ],
   "source": [
    "std_x = 8\n",
    "mean = 174\n",
    "from scipy.stats import norm\n",
    "\n",
    "def find_p(x,y,mean,isinterval,ismore):\n",
    "    if ismore == 1 :\n",
    "        z = (x - mean)/ std_x\n",
    "        p = 1 - norm.cdf(z)\n",
    "        return p\n",
    "    elif isinterval == 1:\n",
    "        z_2 = (y - mean)/ std_x\n",
    "        p_2 = 1 - norm.cdf(z_2)\n",
    "        return p_2 - p\n",
    "    else:\n",
    "        return norm.cdf(z)\n",
    "#a)\n",
    "a = find_p(182,0,mean,0,1)\n",
    "print(f\"a) вероятность = {a*100}%\")\n",
    "\n",
    "\n",
    "#б)\n",
    "a = find_p(190,0,mean,0,1)\n",
    "print(f\"б) вероятность = {a*100}% согласно таблице\")\n",
    "\n",
    "#в)\n",
    "a = find_p(166,190,mean,1,1)\n",
    "print(f\"в) вероятность = {a*100}% согласно таблице\")\n",
    "\n",
    "#г)\n",
    "a = find_p(166,182,mean,1,1)\n",
    "print(f\"г) вероятность = {a*100}% согласно таблице\")\n",
    "\n",
    "#д)\n",
    "a = find_p(158,190,mean,1,1)\n",
    "print(f\"д) вероятность = {a*100}% согласно таблице\")\n"
   ]
  },
  {
   "cell_type": "markdown",
   "metadata": {},
   "source": [
    "### Задание 5\n",
    "На сколько сигм (средних квадратичных отклонений) отклоняется рост человека, равный 190 см, от\n",
    "математического ожидания роста в популяции, в которой M(X) = 178 см и D(X) = 25 кв.см?"
   ]
  },
  {
   "cell_type": "code",
   "execution_count": 32,
   "metadata": {},
   "outputs": [
    {
     "data": {
      "text/plain": [
       "2.4"
      ]
     },
     "execution_count": 32,
     "metadata": {},
     "output_type": "execute_result"
    }
   ],
   "source": [
    "std = 5\n",
    "x = 190\n",
    "mean = 178\n",
    "result  = (x - mean) / std\n",
    "result"
   ]
  },
  {
   "cell_type": "code",
   "execution_count": null,
   "metadata": {},
   "outputs": [],
   "source": []
  }
 ],
 "metadata": {
  "kernelspec": {
   "display_name": "Python 3",
   "language": "python",
   "name": "python3"
  },
  "language_info": {
   "codemirror_mode": {
    "name": "ipython",
    "version": 3
   },
   "file_extension": ".py",
   "mimetype": "text/x-python",
   "name": "python",
   "nbconvert_exporter": "python",
   "pygments_lexer": "ipython3",
   "version": "3.7.4"
  }
 },
 "nbformat": 4,
 "nbformat_minor": 2
}
