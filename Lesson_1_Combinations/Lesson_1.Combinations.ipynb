{
 "cells": [
  {
   "cell_type": "markdown",
   "metadata": {},
   "source": [
    "### Задание 1\n",
    "\n",
    "Из колоды в 52 карты извлекаются случайным образом 4 карты. \n",
    "\n",
    "a) Найти вероятность того, что все карты – крести. \n",
    "\n",
    "б) Найти вероятность, что среди 4-х карт окажется хотя бы один туз."
   ]
  },
  {
   "cell_type": "code",
   "execution_count": 39,
   "metadata": {},
   "outputs": [
    {
     "ename": "SyntaxError",
     "evalue": "duplicate argument 'n' in function definition (<ipython-input-39-474327d54a19>, line 5)",
     "output_type": "error",
     "traceback": [
      "\u001b[1;36m  File \u001b[1;32m\"<ipython-input-39-474327d54a19>\"\u001b[1;36m, line \u001b[1;32m5\u001b[0m\n\u001b[1;31mSyntaxError\u001b[0m\u001b[1;31m:\u001b[0m duplicate argument 'n' in function definition\n"
     ]
    }
   ],
   "source": [
    "from math import factorial\n",
    "def combinations(n,n):\n",
    "    return int(factorial(n) / (factorial(k) * factorial(n - k)))"
   ]
  },
  {
   "cell_type": "code",
   "execution_count": 45,
   "metadata": {},
   "outputs": [
    {
     "name": "stdout",
     "output_type": "stream",
     "text": [
      "a) вероятность того, что все карты – крести 0.2641%\n"
     ]
    }
   ],
   "source": [
    "# a\n",
    "deck = 52\n",
    "on_hand = 4\n",
    "off_hand = deck - on_hand\n",
    "clubs = deck/4\n",
    "clubs_combinations = combinations(clubs, on_hand)\n",
    "all_combinations = combinations(deck, on_hand)\n",
    "p = clubs_combinations / all_combinations\n",
    "print('a) вероятность того, что все карты – крести {:.4}%'.format(p*100))"
   ]
  },
  {
   "cell_type": "code",
   "execution_count": 46,
   "metadata": {},
   "outputs": [
    {
     "name": "stdout",
     "output_type": "stream",
     "text": [
      "a) вероятность того, что среди 4-х карт окажется хотя бы один туз 28.13%\n"
     ]
    }
   ],
   "source": [
    "# б\n",
    "ace_1 = combinations(on_hand, 1) * combinations(off_hand, 3)\n",
    "ace_2 = combinations(on_hand, 2) * combinations(off_hand, 2)\n",
    "ace_3 = combinations(on_hand, 3) * combinations(off_hand, 1)\n",
    "ace_4 = combinations(on_hand, 4) * combinations(off_hand, 0)\n",
    "\n",
    "all_aces = ace_1 + ace_2 + ace_3 + ace_4\n",
    "\n",
    "p = all_aces/all_combinations\n",
    "\n",
    "print('б) вероятность того, что среди 4-х карт окажется хотя бы один туз {:.4}%'.format(p*100))"
   ]
  },
  {
   "cell_type": "markdown",
   "metadata": {},
   "source": [
    "### Задание 2\n",
    "На входной двери подъезда установлен кодовый замок, содержащий десять кнопок с цифрами от 0 до 9. Код содержит три цифры, которые нужно нажать одновременно. Какова вероятность того, что человек, не знающий код, откроет дверь с первой попытки?"
   ]
  },
  {
   "cell_type": "code",
   "execution_count": 53,
   "metadata": {},
   "outputs": [
    {
     "name": "stdout",
     "output_type": "stream",
     "text": [
      "вероятность того, что человек, не знающий код, откроет дверь с первой попытки 0.8333%\n"
     ]
    }
   ],
   "source": [
    "# цифры жмут одновременно, значит порядок не важен - сочетания.\n",
    "all_combinations = combinations(10,3)\n",
    "attempts = 1\n",
    "p = attempts/all_combinations\n",
    "print('вероятность того, что человек, не знающий код, откроет дверь с первой попытки {:.4}%'.format(p*100))"
   ]
  },
  {
   "cell_type": "markdown",
   "metadata": {},
   "source": [
    "### Задание 3\n",
    "В ящике имеется 15 деталей, из которых 9 окрашены. Рабочий случайным образом извлекает 3 детали. Какова вероятность того, что все извлеченные детали окрашены?"
   ]
  },
  {
   "cell_type": "code",
   "execution_count": 68,
   "metadata": {},
   "outputs": [
    {
     "name": "stdout",
     "output_type": "stream",
     "text": [
      "вероятность того, что все извлеченные детали окрашены 20.0%\n"
     ]
    }
   ],
   "source": [
    "all_details = 15\n",
    "details_painted = 9\n",
    "details_taken = 3\n",
    "a_b = details_painted / all_details\n",
    "a_c = details_taken / details_painted\n",
    "p = a_b * a_c\n",
    "print('вероятность того, что все извлеченные детали окрашены {:.20}%'.format(p*100))"
   ]
  },
  {
   "cell_type": "markdown",
   "metadata": {},
   "source": [
    "### Задание 4\n",
    "В лотерее 100 билетов. Из них 2 выигрышных. Какова вероятность того, что 2 приобретенных билета окажутся выигрышными?"
   ]
  },
  {
   "cell_type": "code",
   "execution_count": 81,
   "metadata": {},
   "outputs": [
    {
     "name": "stdout",
     "output_type": "stream",
     "text": [
      "вероятность того, что 2 приобретенных билета окажутся выигрышными 0.0202%\n"
     ]
    }
   ],
   "source": [
    "tickets = 100\n",
    "win_tickets = 2\n",
    "non_win_tickets = tickets - win_tickets\n",
    "tickets_taken = 2\n",
    "\n",
    "win_combinations = combinations(tickets_taken, win_tickets)\n",
    "non_win_combinations = combinations(non_win_tickets,tickets_taken - win_tickets)\n",
    "all_combinations = combinations(tickets, tickets_taken)\n",
    "p = win_combinations*non_win_combinations/all_combinations\n",
    "print('вероятность того, что 2 приобретенных билета окажутся выигрышными {:.4}%'.format(p*100))"
   ]
  }
 ],
 "metadata": {
  "kernelspec": {
   "display_name": "Python 3",
   "language": "python",
   "name": "python3"
  },
  "language_info": {
   "codemirror_mode": {
    "name": "ipython",
    "version": 3
   },
   "file_extension": ".py",
   "mimetype": "text/x-python",
   "name": "python",
   "nbconvert_exporter": "python",
   "pygments_lexer": "ipython3",
   "version": "3.7.4"
  }
 },
 "nbformat": 4,
 "nbformat_minor": 2
}
